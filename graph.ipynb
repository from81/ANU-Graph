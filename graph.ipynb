{
 "cells": [
  {
   "cell_type": "code",
   "execution_count": 84,
   "id": "b9ddd5b7-5b5f-470e-bbf6-d512a5bbcaf7",
   "metadata": {},
   "outputs": [],
   "source": [
    "from typing import Dict\n",
    "from collections import Counter, defaultdict\n",
    "import json\n",
    "from pprint import pprint\n",
    "\n",
    "from py2neo import Graph, Node, Relationship"
   ]
  },
  {
   "cell_type": "code",
   "execution_count": 85,
   "id": "a1ef22cc-d7f0-4da3-bbb1-ad8dab5e8e0d",
   "metadata": {},
   "outputs": [],
   "source": [
    "with open(\"classes.json\") as f:\n",
    "    classes_info = json.load(f)\n",
    "    \n",
    "# with open(\"cecs_classes_2022.json\") as f:\n",
    "#     classes = json.load(f)"
   ]
  },
  {
   "cell_type": "code",
   "execution_count": 86,
   "id": "759733dc-6d5a-484b-9159-a3eb08e34588",
   "metadata": {},
   "outputs": [],
   "source": [
    "graph = Graph(\"bolt://localhost:7687\")"
   ]
  },
  {
   "cell_type": "code",
   "execution_count": 87,
   "id": "cf1ec84e-a1a7-420d-ac85-8863c8fa44a4",
   "metadata": {},
   "outputs": [],
   "source": [
    "NODES = defaultdict(lambda : Node(\"program\"))\n",
    "for item in classes_info:\n",
    "    node = Node(\"class\")\n",
    "    node['course_code'] = item['id']\n",
    "    node['name'] = item['name']\n",
    "    node['description'] = item['description']\n",
    "    node['n_units'] = item['n_units']\n",
    "    node['requisites_raw'] = item['requisites_raw']\n",
    "    node['entities'] = item['entities']\n",
    "    graph.create(node)\n",
    "    \n",
    "    NODES[node['course_code']] = node"
   ]
  },
  {
   "cell_type": "code",
   "execution_count": 88,
   "id": "9add722f-f75f-458b-86ad-861eef9de592",
   "metadata": {},
   "outputs": [],
   "source": [
    "PREREQ = Relationship.type(\"PREREQ\") # completed\n",
    "INCOMPATIBLE = Relationship.type(\"INCOMPATIBLE\") # incompatible\n",
    "DEGREE = Relationship.type(\"DEGREE\") # studying\n",
    "ENROLLED = Relationship.type(\"CO-REQ\") # enrolled\n",
    "UNKNOWN = Relationship.type(\"UNKNOWN\") # Unknown\n",
    "\n",
    "condition_mapper = {\n",
    "    'completed': PREREQ,\n",
    "    'incompatible': INCOMPATIBLE,\n",
    "    'studying': DEGREE,\n",
    "    'enrolled': ENROLLED,\n",
    "    'Unknown': UNKNOWN\n",
    "}\n",
    "\n",
    "def write_edges(item, src_node, op='and'):\n",
    "    if type(item) == list:\n",
    "        for elem in item:\n",
    "            write_edges(elem, src_node, op)\n",
    "    elif type(item) == dict:\n",
    "        if 'operator' in item and item['operator']:\n",
    "            if type(item['operator']) == dict:\n",
    "                for key in item['operator'].keys():\n",
    "                    write_edges(item['operator'][key], src_node, key)\n",
    "        if 'condition' in item and item['condition'] and item['condition'] in condition_mapper:\n",
    "            edge_f = condition_mapper[item['condition']]\n",
    "            if len(item['programs']) > 0:\n",
    "                for name in item['programs']:\n",
    "                    graph.create(edge_f(src_node, NODES[name]))\n",
    "            if len(item['classes']) > 0:\n",
    "                for name in item['classes']:\n",
    "                    graph.create(edge_f(src_node, NODES[name]))\n",
    "\n",
    "# write_edges(item['requisites'], NODES[item['course_code']])\n",
    "for item in classes_info:\n",
    "    write_edges(item['requisites'], NODES[item['id']])"
   ]
  },
  {
   "cell_type": "code",
   "execution_count": null,
   "id": "a99fb287-ec64-4950-ba1c-a8ad6091cfaa",
   "metadata": {},
   "outputs": [],
   "source": []
  }
 ],
 "metadata": {
  "kernelspec": {
   "display_name": "Python 3 (ipykernel)",
   "language": "python",
   "name": "python3"
  },
  "language_info": {
   "codemirror_mode": {
    "name": "ipython",
    "version": 3
   },
   "file_extension": ".py",
   "mimetype": "text/x-python",
   "name": "python",
   "nbconvert_exporter": "python",
   "pygments_lexer": "ipython3",
   "version": "3.9.7"
  }
 },
 "nbformat": 4,
 "nbformat_minor": 5
}
