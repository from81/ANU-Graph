{
 "cells": [
  {
   "cell_type": "code",
   "execution_count": 1,
   "id": "b9ddd5b7-5b5f-470e-bbf6-d512a5bbcaf7",
   "metadata": {},
   "outputs": [],
   "source": [
    "from typing import Dict\n",
    "from collections import defaultdict\n",
    "import json\n",
    "import os\n",
    "from pprint import pprint\n",
    "\n",
    "from py2neo import GraphService, Graph, Node, Relationship, Subgraph\n",
    "\n",
    "import graph_builder as gb\n",
    "\n",
    "%load_ext autoreload\n",
    "%autoreload 2"
   ]
  },
  {
   "cell_type": "code",
   "execution_count": 2,
   "id": "cd741538-2022-482f-b7d6-67795eb4881e",
   "metadata": {},
   "outputs": [],
   "source": [
    "# G = Graph(\"bolt://localhost:7687\")\n",
    "username = \"neo4j\"\n",
    "password = \"KrRsKLC26qhHSdj4PG_qRso98GdyDbZOTQrdvvZPr8Q\"\n",
    "G = Graph(f\"neo4j+s://f2c1d80b.databases.neo4j.io\", auth=(username, password))"
   ]
  },
  {
   "cell_type": "code",
   "execution_count": 3,
   "id": "bb7231e3-0505-4c0a-93a3-be4dc329408c",
   "metadata": {},
   "outputs": [],
   "source": [
    "G.delete_all()"
   ]
  },
  {
   "cell_type": "code",
   "execution_count": 4,
   "id": "a1ef22cc-d7f0-4da3-bbb1-ad8dab5e8e0d",
   "metadata": {},
   "outputs": [],
   "source": [
    "with open(\"data/scraped/classes.json\") as f:\n",
    "    classes = json.load(f)\n",
    "    \n",
    "with open(\"data/scraped/programs.json\") as f:\n",
    "    programs = json.load(f)\n",
    "    \n",
    "with open(\"data/scraped/specialisations.json\") as f:\n",
    "    special = json.load(f)"
   ]
  },
  {
   "cell_type": "code",
   "execution_count": 5,
   "id": "7b5a28f3",
   "metadata": {},
   "outputs": [
    {
     "name": "stdout",
     "output_type": "stream",
     "text": [
      "classes: 3431, programs: 313, special: 446\n"
     ]
    }
   ],
   "source": [
    "print(f\"classes: {len(classes)}, programs: {len(programs)}, special: {len(special)}\")"
   ]
  },
  {
   "cell_type": "code",
   "execution_count": 6,
   "id": "1e9b18f0-9a81-439e-bef4-df06bdeb252d",
   "metadata": {},
   "outputs": [],
   "source": [
    "try:\n",
    "    G.schema.create_uniqueness_constraint('class', 'id')\n",
    "    G.schema.create_uniqueness_constraint('program', 'id')\n",
    "    G.schema.create_uniqueness_constraint('specialisation', 'id')\n",
    "except Exception as e:\n",
    "    pass"
   ]
  },
  {
   "cell_type": "markdown",
   "id": "64d49e4a-3c8d-4614-839b-09ab7629d88e",
   "metadata": {},
   "source": [
    "## Create Nodes"
   ]
  },
  {
   "cell_type": "code",
   "execution_count": 7,
   "id": "0b878d5a-abe6-4fbe-b6ed-77a919ef6cf4",
   "metadata": {},
   "outputs": [
    {
     "data": {
      "text/html": [
       "<table><tr><th>count(*)</th></tr><tr><td style=\"text-align:right\">0</td></tr></table>"
      ],
      "text/plain": [
       " count(*) \n",
       "----------\n",
       "        0 "
      ]
     },
     "execution_count": 7,
     "metadata": {},
     "output_type": "execute_result"
    }
   ],
   "source": [
    "G.run(\"\"\"\n",
    "MATCH (n)\n",
    "RETURN count(*)\n",
    "\"\"\")"
   ]
  },
  {
   "cell_type": "code",
   "execution_count": null,
   "id": "cf1ec84e-a1a7-420d-ac85-8863c8fa44a4",
   "metadata": {},
   "outputs": [],
   "source": [
    "%%time\n",
    "for doc in classes:\n",
    "    gb.create_node_if_not_exists(gb.CLASSES, doc, G, doc['id'], 'class')\n",
    "print(len(gb.CLASSES))"
   ]
  },
  {
   "cell_type": "code",
   "execution_count": null,
   "id": "1af212a0-79b8-4e45-a5cc-64eb917792b8",
   "metadata": {},
   "outputs": [],
   "source": [
    "%%time\n",
    "for doc in programs:\n",
    "    gb.create_node_if_not_exists(gb.PROGRAMS, doc, G, doc['id'], 'program')\n",
    "print(len(gb.PROGRAMS))"
   ]
  },
  {
   "cell_type": "code",
   "execution_count": null,
   "id": "c9ca73ac-f641-4aa2-bd7e-3b67a601956f",
   "metadata": {},
   "outputs": [],
   "source": [
    "%%time\n",
    "for doc in special:\n",
    "    gb.create_node_if_not_exists(gb.SPECIAL, doc, G, doc['id'], 'specialisation')\n",
    "print(len(gb.SPECIAL))"
   ]
  },
  {
   "cell_type": "code",
   "execution_count": null,
   "id": "d14024d3",
   "metadata": {},
   "outputs": [],
   "source": [
    "G.run(\"\"\"\n",
    "MATCH (n)\n",
    "RETURN count(*)\n",
    "\"\"\")"
   ]
  },
  {
   "cell_type": "markdown",
   "id": "b8eafdbc-47c1-413d-a8fb-e94ad65d57df",
   "metadata": {},
   "source": [
    "## Create Edges"
   ]
  },
  {
   "cell_type": "code",
   "execution_count": null,
   "id": "e0f1e99e-f434-438c-8a34-23670eae06f6",
   "metadata": {},
   "outputs": [],
   "source": [
    "%%time\n",
    "## create edges for class requisites\n",
    "for doc in classes:\n",
    "    if 'requisites' in doc:\n",
    "        gb.create_nodes_and_edges_if_class_requisite(doc['requisites'], gb.CLASSES[doc['id']], G)"
   ]
  },
  {
   "cell_type": "code",
   "execution_count": null,
   "id": "70e5464b-ce64-41a8-bdd5-5656da31f3da",
   "metadata": {},
   "outputs": [],
   "source": [
    "%%time\n",
    "for doc in programs:\n",
    "    src_node = gb.PROGRAMS[doc['id']]\n",
    "    for requirement in doc['requirements']:\n",
    "        gb.create_nodes_and_edges_if_program(requirement, src_node, G)"
   ]
  },
  {
   "cell_type": "code",
   "execution_count": null,
   "id": "e0df683a-2e78-45cb-a00a-67b47623b38a",
   "metadata": {},
   "outputs": [],
   "source": [
    "%%time\n",
    "for doc in special:\n",
    "    src_node = gb.SPECIAL[doc['id']]\n",
    "    for requirement in doc['requirements']:\n",
    "        gb.create_nodes_and_edges_if_program(requirement, src_node, G)"
   ]
  },
  {
   "cell_type": "code",
   "execution_count": null,
   "id": "3ba78971-b3cf-4b9f-a6b9-83c4cec90a0f",
   "metadata": {},
   "outputs": [],
   "source": [
    "G.run(\"\"\"\n",
    "MATCH (n)-[]-()\n",
    "RETURN count(*)\n",
    "\"\"\")"
   ]
  },
  {
   "cell_type": "markdown",
   "id": "ab680547-3c5c-489f-8ea7-574a2fd2947e",
   "metadata": {},
   "source": [
    "## Check"
   ]
  },
  {
   "cell_type": "code",
   "execution_count": null,
   "id": "219fa88c-531f-45f1-9f9d-8437b5f67ae2",
   "metadata": {},
   "outputs": [],
   "source": [
    "gb.COUNTER"
   ]
  },
  {
   "cell_type": "code",
   "execution_count": null,
   "id": "249fc72e-cf64-40c3-9246-cecfc6640dd7",
   "metadata": {},
   "outputs": [],
   "source": [
    "len(gb.UNMERGED_EDGES)"
   ]
  },
  {
   "cell_type": "code",
   "execution_count": null,
   "id": "5d8b0053-89eb-4fc2-939e-a8a6f728e03a",
   "metadata": {},
   "outputs": [],
   "source": [
    "len(gb.MERGED_EDGES)"
   ]
  },
  {
   "cell_type": "code",
   "execution_count": null,
   "id": "3def4526-5724-4f97-b852-24377250110f",
   "metadata": {},
   "outputs": [],
   "source": [
    "len(gb.NOT_FOUND)"
   ]
  },
  {
   "cell_type": "code",
   "execution_count": null,
   "id": "5e8b4bda-1cce-4f7b-a0be-9af138c339c5",
   "metadata": {},
   "outputs": [],
   "source": [
    "gb.NOT_FOUND"
   ]
  },
  {
   "cell_type": "code",
   "execution_count": null,
   "id": "8f50f8a6-2a3c-40e2-b6c0-809e3e47e40a",
   "metadata": {},
   "outputs": [],
   "source": [
    "# for item in sorted(ALL_PROGRAMS.keys()):\n",
    "#     if '(' in item:\n",
    "#         print(item)"
   ]
  },
  {
   "cell_type": "code",
   "execution_count": null,
   "id": "520ab72a",
   "metadata": {},
   "outputs": [],
   "source": [
    "# ret = G.nodes.match('program', name='Master of Computing')\n",
    "# ret"
   ]
  },
  {
   "cell_type": "code",
   "execution_count": null,
   "id": "1efd017c-48f3-4424-a9d0-746f4ae736c2",
   "metadata": {},
   "outputs": [],
   "source": [
    "# node = ret.first()\n",
    "# node"
   ]
  },
  {
   "cell_type": "code",
   "execution_count": null,
   "id": "1cace25b-2858-4c88-a6b5-983a94e68c2e",
   "metadata": {},
   "outputs": [],
   "source": [
    "# ret = G.relationships.match([node])\n",
    "# list(ret)"
   ]
  },
  {
   "cell_type": "code",
   "execution_count": null,
   "id": "8b7a27b1-e772-46d6-ab9b-d5246c819c9f",
   "metadata": {},
   "outputs": [],
   "source": [
    "# edges = []\n",
    "# for edge in ret:\n",
    "#     edges.extend(list(G.relationships.match([edge.end_node])))\n",
    "# edges"
   ]
  },
  {
   "cell_type": "code",
   "execution_count": null,
   "id": "7141dd47-3c74-4d13-97c3-6405313db93c",
   "metadata": {},
   "outputs": [],
   "source": [
    "# items = []\n",
    "# for edge in edges:\n",
    "#     items.extend(list(G.relationships.match([edge.start_node])))\n",
    "# items"
   ]
  },
  {
   "cell_type": "code",
   "execution_count": null,
   "id": "ee336cb8-9823-4d39-9036-80ecf0019abb",
   "metadata": {},
   "outputs": [],
   "source": []
  }
 ],
 "metadata": {
  "kernelspec": {
   "display_name": "Python 3 (ipykernel)",
   "language": "python",
   "name": "python3"
  },
  "language_info": {
   "codemirror_mode": {
    "name": "ipython",
    "version": 3
   },
   "file_extension": ".py",
   "mimetype": "text/x-python",
   "name": "python",
   "nbconvert_exporter": "python",
   "pygments_lexer": "ipython3",
   "version": "3.9.7"
  }
 },
 "nbformat": 4,
 "nbformat_minor": 5
}
